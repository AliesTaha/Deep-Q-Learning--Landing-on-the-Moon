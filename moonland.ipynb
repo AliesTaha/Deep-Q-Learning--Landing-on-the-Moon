{
 "cells": [
  {
   "cell_type": "markdown",
   "metadata": {},
   "source": [
    "# Moon Landing Training\n",
    "\n",
    "We begin by importing the important libraries that will be used. In this case, we need:\n",
    "- `deque` for the data structrue used for memory buffer\n",
    "- `namedtuple` for storing the experience tuples\n",
    "- `gym` is ued to test reinforcement learning (0.24.0)\n",
    "- `PIL.image` and `pyvirtualdisplay` are used to render the Lunar Lander Environment"
   ]
  },
  {
   "cell_type": "code",
   "execution_count": 19,
   "metadata": {},
   "outputs": [],
   "source": [
    "import time\n",
    "from collections import deque, namedtuple\n",
    "\n",
    "import gym\n",
    "import numpy as np\n",
    "import PIL.Image\n",
    "import tensorflow as tf\n",
    "import utils\n",
    "\n",
    "from pyvirtualdisplay import Display\n",
    "from tensorflow.keras import Sequential\n",
    "from tensorflow.keras.layers import Dense, Input\n",
    "from tensorflow.keras.losses import MSE\n",
    "from tensorflow.keras.optimizers import Adam"
   ]
  },
  {
   "cell_type": "code",
   "execution_count": 2,
   "metadata": {},
   "outputs": [],
   "source": [
    "# Set up a virtual display to render the Lunar Lander environment.\n",
    "Display(visible=0, size=(840, 480)).start();\n",
    "# Set the random seed for TensorFlow\n",
    "tf.random.set_seed(utils.SEED)"
   ]
  },
  {
   "cell_type": "markdown",
   "metadata": {},
   "source": [
    "# Hyperparameters"
   ]
  },
  {
   "cell_type": "code",
   "execution_count": 3,
   "metadata": {},
   "outputs": [],
   "source": [
    "MEMORY_SIZE = 100_000 #SIZE OF THE MEMORY BUFFER / Replay Buffer\n",
    "GAMMA = 0.995 #DISCOUNT FACTOR\n",
    "ALPHA=1e-3 #LEARNING RATE\n",
    "NUM_STEPS_FOR_UPDATE=4 #NUMBER OF STEPS TO UPDATE THE TARGET NETWORK, every C steps"
   ]
  },
  {
   "cell_type": "markdown",
   "metadata": {},
   "source": [
    "# Lunar Lander Environment"
   ]
  },
  {
   "cell_type": "markdown",
   "metadata": {},
   "source": [
    "The OpenAI Gym environment provides LunarLander environment, which is simply a task or problem we want to solve. We will solve Lunar Lander by Reinforcement Learning.\n",
    "<br>\n",
    "<figure>\n",
    "  <img src = \"images/lunar_lander.gif\" width = 40%>\n",
    "  <br>\n",
    "  <br>\n",
    "      <figcaption style = \"font-style: italic\">Fig 1. Lunar Lander Environment.</figcaption>\n",
    "</figure>"
   ]
  },
  {
   "cell_type": "markdown",
   "metadata": {},
   "source": [
    "# Rules\n",
    "- The two flag poles surround the center 0,0 of the landing pad\n",
    "- Lander is allowed to land outside landing pad\n",
    "- Lander starts at the top center of the environment\n",
    "- Fuel is cheap (infinite)\n",
    "- Need 200 points to win\n",
    "\n",
    "### Actions\n",
    "Agent takes 1 of 4 actions:\n",
    "- 0 - Do nothing\n",
    "- 1 - Right\n",
    "- 2 - Main\n",
    "- 3 - Left\n",
    "\n",
    "### State vector\n",
    "The agent's observation space is as follows:\n",
    "- (x,y) coordinates\n",
    "- (x´,y´) the linear velocities\n",
    "- (θ) the angle\n",
    "- (θ´) the angular velocity (***shudders in 105 Dynamics***)\n",
    "- L,R -> 2 booleans to show whether the leg is touching ground or not\n",
    "\n",
    "### Reward\n",
    "For each step, the reward:\n",
    "\n",
    "- is increased/decreased the closer/further the lander is to the landing pad.\n",
    "- is increased/decreased the slower/faster the lander is moving.\n",
    "- is decreased the more the lander is tilted (angle not horizontal).\n",
    "- is increased by 10 points for each leg that is in contact with the ground.\n",
    "- is decreased by 0.03 points each frame a side engine is firing.\n",
    "- is decreased by 0.3 points each frame the main engine is firing.\n",
    "- The episode receives an additional reward of -100 or +100 points for crashing or landing safely respectively."
   ]
  },
  {
   "cell_type": "markdown",
   "metadata": {},
   "source": [
    "### The Agent\n",
    "The agent is the entity that learns from interactions with the environment. It makes decisions based on the state of the environment, attempting to achieve a goal. In the case of the Lunar Lander:\n",
    "\n",
    "**Goal**: Safely land the lunar lander on the landing pad.\n",
    "\n",
    "**Decision-making**: The agent decides at each time step which action to take from the set of available actions (do nothing, fire right engine, fire main engine, fire left engine).\n",
    "\n",
    "### The Environment\n",
    "The environment encompasses everything external to the agent that the agent interacts with. This includes the lunar lander's dynamics, the moon's surface, the landing pad, and the laws of physics that govern how actions affect the state of the lander. In RL, the environment is responsible for:\n",
    "- Providing state information to the agent: at each time step, the environment supplies the agent with the current state, which includes the lander’s position, velocity, angle, angular velocity, and whether each leg is touching the ground.\n",
    "- Responding to the agent's actions: After an action is taken by the agent, the environment transitions to a new state and provides feedback in the form of a reward signal.\n",
    "\n",
    "### Interaction Process\n",
    "- Observation Space: The state vector provided by the environment to the agent. For the Lunar Lander, this includes spatial coordinates, velocities, and contact points.\n",
    "- Action Space: The set of all possible actions the agent can take. In this environment, these actions control the lander’s engines.\n",
    "- Rewards: Positive and negative feedback provided to guide the agent's learning. Rewards in the Lunar Lander are based on proximity to the target, movement speed, orientation, and successful landing or penalties for crashing.\n",
    "- Episode Termination: Conditions under which the current episode (or trial) ends. This could be when the lander lands or crashes, or when it moves out of the designated horizontal boundaries.\n",
    "\n",
    "### Learning and Optimization\n",
    "The agent learns an optimal policy — mapping `states` to `actions` — through repeated interaction with the environment, guided by the reward signals. The agent aims to maximize the cumulative reward over time, which, in this scenario, would mean learning how to land the lander safely and efficiently. Various RL algorithms can be employed to learn this policy, such as Q-learning, deep Q-networks (DQN), or policy gradient methods, depending on the specific requirements and characteristics of the problem and the available data."
   ]
  },
  {
   "cell_type": "code",
   "execution_count": 4,
   "metadata": {},
   "outputs": [
    {
     "data": {
      "image/jpeg": "[encoded data removed]",
      "image/png": "[encoded data removed]",
      "text/plain": [
       "<PIL.Image.Image image mode=RGB size=600x400>"
      ]
     },
     "execution_count": 4,
     "metadata": {},
     "output_type": "execute_result"
    }
   ],
   "source": [
    "env = gym.make('LunarLander-v2',render_mode=\"rgb_array\")\n",
    "env.reset()\n",
    "PIL.Image.fromarray(env.render())"
   ]
  },
  {
   "cell_type": "code",
   "execution_count": 5,
   "metadata": {},
   "outputs": [
    {
     "name": "stdout",
     "output_type": "stream",
     "text": [
      "State Shape: (8,)\n",
      "Number of actions: 4\n"
     ]
    }
   ],
   "source": [
    "state_size = env.observation_space.shape\n",
    "num_actions = env.action_space.n\n",
    "\n",
    "print('State Shape:', state_size)\n",
    "print('Number of actions:', num_actions)"
   ]
  },
  {
   "cell_type": "markdown",
   "metadata": {},
   "source": [
    "<figure>\n",
    "  <image src = \"images/rl_formalism.png\" width = 100%>\n",
    "  <br>\n",
    "  <br>\n",
    "</figure>\n",
    "Above shows agent-environment loop. Here:\n",
    "<ul>\n",
    "<li> Agent interacts with environment in discrete steps t=0,1,2,3...\n",
    "<li> Each step t, agent uses policy π to select action A_t based on current state S_t\n",
    "<li> Agent receives reward R_t\n",
    "<li> Next time step is the new state S_(t+1)"
   ]
  },
  {
   "cell_type": "markdown",
   "metadata": {},
   "source": [
    "The `.step()` method runs a single time step in environment. It accepts as parameter one action and returns 4 values:\n",
    "- ``observation`` *object* :This is the state matrix, or the observation space array. \n",
    "- ``reward`` *float*       :This is the amount of reward given\n",
    "- ``done`` *boolean*       :This is True when it's time to reset (crashed or landed)\n",
    "- ``info`` *dictionary*    :Unused in this case, but useful debugging info."
   ]
  },
  {
   "cell_type": "code",
   "execution_count": 6,
   "metadata": {},
   "outputs": [
    {
     "name": "stdout",
     "output_type": "stream",
     "text": [
      "Initial State: [-0.006 1.411 -0.653 0.023 0.007 0.148 0.000 0.000]\n",
      "Action: 0\n",
      "Next State: [-0.013 1.411 -0.652 -0.002 0.015 0.146 0.000 0.000]\n",
      "Reward Received: -0.6006887917977792\n",
      "Episode Terminated: False\n",
      "Info: False\n"
     ]
    },
    {
     "name": "stderr",
     "output_type": "stream",
     "text": [
      "/Users/alies/Desktop/University/Projects/Deep Q Learning- Landing on the Moon/lunarlanding/lib/python3.11/site-packages/gym/utils/passive_env_checker.py:233: DeprecationWarning: `np.bool8` is a deprecated alias for `np.bool_`.  (Deprecated NumPy 1.24)\n",
      "  if not isinstance(terminated, (bool, np.bool8)):\n"
     ]
    }
   ],
   "source": [
    "#Reset environment and get initial state\n",
    "initial_state=env.reset()\n",
    "\n",
    "# Select an action\n",
    "action = 0\n",
    "\n",
    "# Run a single time step of the environment's dynamics with the given action.\n",
    "next_state, reward, done, info,_ = env.step(action)\n",
    "\n",
    "with np.printoptions(formatter={'float': '{:.3f}'.format}):\n",
    "    print(\"Initial State:\", initial_state[0])\n",
    "    print(\"Action:\", action)\n",
    "    print(\"Next State:\", next_state)\n",
    "    print(\"Reward Received:\", reward)\n",
    "    print(\"Episode Terminated:\", done)\n",
    "    print(\"Info:\", info)\n",
    "\n",
    "# Replace the `current_state` with the state after the action is taken\n",
    "initial_state = next_state"
   ]
  },
  {
   "cell_type": "markdown",
   "metadata": {},
   "source": [
    "# Deep Q Learning\n",
    "When both the state and action space are discrete we can estimate the action-value function iteratively by using the Bellman equation:\n",
    "\n",
    "$$\n",
    "Q\\underbrace{(s,a)}_{x} = \\underbrace{R(s) + \\gamma \\max_{a'}Q(s',a')}_{y}\n",
    "$$\n",
    "Here, Q(s,a) is the return if you start in state s, take action a, then behave optimally after that. π(s)=a where a is $max_{a}Q(s,a)$. This only works if you can compute Q(s,a) for every action. \n",
    "Note that ${s'}$ means the new state we got to after taking action $a$. The prime represents new action/new state.\n",
    "\n",
    "The above bellman equation is similar to \n",
    "$$\n",
    "f_{w,b}(x)≈y\n",
    "$$\n",
    "Getting the actual (x,y) points is simple. We do random actions and get various states. Based on these states, we determine x as the (**state,action**) tuple, and y as the right hand side of the bellman equation, as determined by R(s) and S, both of which are given.\n",
    "\n",
    "<img src='images/GettingXY.jpg' width=40%><br>\n",
    "\n",
    "Above, we see that y is determined by R(s) + $ \\gamma\\ $ times the max of the Q of...pay attention... the new reached state having taken action $a$. Now, how do we know what the maximum of Q is? We need to calculate Q for all possible actions in state $s^{'}$ to get the maximum. Since Q is recursive, initially we don't know what the Q function is. So at every step, Q here is some guess. \n",
    "\n",
    "Once we have above data, we train Neural Network to try to predict y as a function of the input x. \n",
    "\n",
    "The iterative method converges to the optimal action-value function Q*(s,a) as i-> $\\infty$ \n",
    "- So the agent gradually explores the state-action space and updates the **estimate** of action-value function $Q(s,a)$ till it converges to optimal action-value function $Q^*(s,a)$\n",
    "#### Problem\n",
    "This works for regular discrete state space, but when it's continuous, it's impossible to explore the entire state-action space, and impossible to gradually estimate $Q(s,a)$ till its convergence\n",
    "\n",
    "The solution is in **Deep Q Learning** wherein we solve the problem by using a neural network to estimate the action-value function $Q(s,a)≈Q^*(s,a)$\n",
    "- This neural network is the Q-Network, trained by adjusting its weights to minimize mean-squared error in Bellman equation above\n",
    "#### One more problem\n",
    "Q-Networks are highly unstable. Instead, we use \n",
    "1. Target Network \n",
    "2. Experience Replay. "
   ]
  },
  {
   "cell_type": "markdown",
   "metadata": {},
   "source": [
    "# Target Network\n",
    "We train the Q-Network by adjusting its weights at each iteration to minimize mean squared error. So here, the target value is\n",
    "$$\n",
    "y=R+\\gamma\\ max_{a'}Q(s',a';w)\n",
    "$$\n",
    "Here, $w$ are the weights of the Q-Network. This means that we adjust the weights $w$ for each iteration to $minimize$ the following error:\n",
    "$$\n",
    "\\overbrace{\\underbrace{R+\\gamma\\ max_{a'}Q(s',a';w)}_{\\rm {y~target}} - Q(s,a;w)}^{\\rm{Error}}\n",
    "$$\n",
    "#### Problem\n",
    "Y target is changing over time and on every iteration. If the target is constantly changing, there are oscillations and instabilities. To avoid this, we create a separate neural network for generating the y-targets. This separate neural network is called **target $ \\hat{Q}\\ Network$**. \n",
    "\n",
    "Still following? To recap:\n",
    "1. We use a neural network to create the optimal action-value function. \n",
    "2. To do that, we create another target neural network called $\\hat{Q}$ Network with the same architecture as the original network. \n",
    "\n",
    "Now the equation becomes:\n",
    "$$\n",
    "\\overbrace{\\underbrace{R + \\gamma \\max_{a'}\\hat{Q}(s',a'; w^-)}_{\\rm {y~target}} - Q(s,a;w)}^{\\rm {Error}}\n",
    "$$\n",
    "\n",
    "where $w^-$ and $w$ are the weights of the target-Q network and Q network, respectively.\n",
    "\n",
    "In practice:\n",
    "- Every $C$ time steps, we will use the $\\hat{Q}$-Network to generate y targets and update the weights of the $\\hat{Q}$-Network using the weights of the ${Q}$-Network.\n",
    "- We will update the weights $w^-$ of the target network using a **soft update**.\n",
    "This means updating the weights of $w^-$ using\":\n",
    "$$\n",
    "w^-\\leftarrow \\tau w + (1 - \\tau) w^-\n",
    "$$\n",
    "\n",
    "where $\\tau \\ll 1$. By using the soft update we ensure the target value $y$ changes slowly, which improves stability "
   ]
  },
  {
   "cell_type": "markdown",
   "metadata": {},
   "source": [
    "# Create the Q and Target $\\hat{Q}$ Network\n",
    "Deep-$Q$ Network -DQN- is a neural network that approximates the action-value function $Q(s,a)$ ≈ $Q^*(s,a)$. This is done by mapping states to $Q$ values. \n",
    "\n",
    "The algorithm is as follows:\n",
    "\n",
    "Initialize randomly as a guess of Q(s,a)\n",
    "\n",
    "Repeat:\n",
    "-    Take actions in the lunar lander, getting (s,a,R(s),s')\n",
    "-    Store 10,000 most recent (s,a,R(s),s') tuples ``Replay Buffer``\n",
    "-    Train Neural Network:\n",
    "        - Create training set of 10,000 (maybe less like 1000 random if you're doing mini-batch) examples -> x=(s,a) and y= R(s) + $\\gamma\\$ $max_{a'}$ Q(s',a')\n",
    "        - Train $Q_{new}$ such that its ≈ y\n",
    "- Set $Q$=$Q_{new}$ -> (sometimes we do $Q = 0.9Q + 0.1Q_{new}$ so that if the new neural network is worse than the old one, we do a soft update method)\n",
    "\n",
    "See below:<br>\n",
    "\n",
    "<img src='images/NeuralNetwork.jpg' width=50%>"
   ]
  },
  {
   "cell_type": "code",
   "execution_count": 7,
   "metadata": {},
   "outputs": [],
   "source": [
    "q_network= Sequential([\n",
    "    Input(shape=state_size),\n",
    "    Dense(units=64, activation='relu'),\n",
    "    Dense(units=64, activation='relu'),\n",
    "    Dense(units=num_actions, activation='linear')\n",
    "])\n",
    "\n",
    "target_q_network= Sequential([\n",
    "    Input(shape=state_size),\n",
    "    Dense(units=64, activation='relu'),\n",
    "    Dense(units=64, activation='relu'),\n",
    "    Dense(units=num_actions, activation='linear')\n",
    "])\n",
    "\n",
    "optimizer=tf.keras.optimizers.Adam(learning_rate=ALPHA)"
   ]
  },
  {
   "cell_type": "markdown",
   "metadata": {},
   "source": [
    "# Experience Replay\n",
    "As the agent interacts with the environment, the states, actions and rewards are all sequential. The agent **cannot** learn from them because the consecutive experiences have a strong correlation between them. To avoid, we use `Experience Replay` to generate uncorrelated experiences for training the agent. \n",
    "\n",
    "Experience Replay means storing agent's experience tuples $(S_t, A_t, R_t, S_{t+1})$ in a `memory buffer` at each time step. Then we sample a random mini-batch of experiences from the buffer to learn. "
   ]
  },
  {
   "cell_type": "code",
   "execution_count": 8,
   "metadata": {},
   "outputs": [],
   "source": [
    "experience=namedtuple('Experience',field_names=['state','action','reward','next_state','done'])"
   ]
  },
  {
   "cell_type": "markdown",
   "metadata": {},
   "source": [
    "##### Deep Q-Learning with Experience Replay Algorithm\n",
    "We use the following algorithm:\n",
    "- Initialize memory buffer D with capcity N\n",
    "- Initialize $Q$-Network with random weights w\n",
    "- Initialize target $\\hat{Q}$ with weights $w^-$ = $w$\n",
    "- for episode i=1 to $M$ do\n",
    "    - receive initial state $S_1$\n",
    "    - for t=1 to *T* do\n",
    "        - Observe state $S_t$ and choose action $a_t$ using an ɛ̝-greedy policy\n",
    "            - This means with probability 0.95 or around there pick the action that maximizes $Q(s,a)$, `Greedy Exploitation`, and with a probability of 0.05≈$\\epsilon$ pick action $a$ randomly, or `Exploration` \n",
    "        - Take action $a_t$, receive reward $R(t)$, move to $S_{t+1}$\n",
    "        - Store experience tuple $(S_t, A_t, R(t), S_{t+1})$ in memory buffer D\n",
    "        - Every $C$ steps perform a learning update:\n",
    "        - Sample random mini-batch of experience tuples $(S_t, A_t, R(t), S_{t+1})$ from $D$\n",
    "        - Set $y_j$ = $R_j$ if episode terminates at step j+1, otherwise set $y_i = R_j + \\gamma\\ max_{a'}\\hat{Q}(s_{j+1},a^{'})$\n",
    "        - Perform gradient descent step on ($y_j$ - $Q(s_j,a_j;W))^2$ with respect to the Q-Network weights w\n",
    "        - Update the weights of the $\\hat{Q}$-Network using a soft update\n",
    "    - end \n",
    "- end"
   ]
  },
  {
   "cell_type": "markdown",
   "metadata": {},
   "source": [
    "<a name=\"ex02\"></a>\n",
    "### Exercise 2\n",
    "\n",
    "In this exercise you will implement line ***12*** of the algorithm:\n",
    "> Set $y_j$ = $R_j$ if episode terminates at step j+1, otherwise set $y_i = R_j + \\gamma\\ max_{a'}\\hat{Q}(s_{j+1},a^{'})$\n",
    "\n",
    " outlined in *Fig 3* above and you will also compute the loss between the $y$ targets and the $Q(s,a)$ values. In the cell below, complete the `compute_loss` function by setting the $y$ targets equal to:\n",
    "\n",
    "$$\n",
    "\\begin{equation}\n",
    "    y_j =\n",
    "    \\begin{cases}\n",
    "      R_j & \\text{if episode terminates at step  } j+1\\\\\n",
    "      R_j + \\gamma \\max_{a'}\\hat{Q}(s_{j+1},a') & \\text{otherwise}\\\\\n",
    "    \\end{cases}       \n",
    "\\end{equation}\n",
    "$$\n",
    "\n",
    "Here are a couple of things to note:\n",
    "\n",
    "* The `compute_loss` function takes in a mini-batch of experience tuples. This mini-batch of experience tuples is unpacked to extract the `states`, `actions`, `rewards`, `next_states`, and `done_vals`. You should keep in mind that these variables are *TensorFlow Tensors* whose size will depend on the mini-batch size. For example, if the mini-batch size is `64` then both `rewards` and `done_vals` will be TensorFlow Tensors with `64` elements.\n",
    "\n",
    "\n",
    "* Using `if/else` statements to set the $y$ targets will not work when the variables are tensors with many elements. However, notice that you can use the `done_vals` to implement the above in a single line of code. To do this, recall that the `done` variable is a Boolean variable that takes the value `True` when an episode terminates at step $j+1$ and it is `False` otherwise. Taking into account that a Boolean value of `True` has the numerical value of `1` and a Boolean value of `False` has the numerical value of `0`, you can use the factor `(1 - done_vals)` to implement the above in a single line of code. Here's a hint: notice that `(1 - done_vals)` has a value of `0` when `done_vals` is `True` and a value of `1` when `done_vals` is `False`. \n",
    "\n",
    "Lastly, compute the loss by calculating the Mean-Squared Error (`MSE`) between the `y_targets` and the `q_values`. To calculate the mean-squared error you should use the already imported package `MSE`:"
   ]
  },
  {
   "cell_type": "code",
   "execution_count": 9,
   "metadata": {},
   "outputs": [],
   "source": [
    "def compute_loss(experiences, gamma, q_network, target_q_network):\n",
    "    '''\n",
    "    Calculates the Mean Squared Error Loss\n",
    "    Args:\n",
    "        experiences: (tuple) tuple of [\"state\", \"action\", \"reward\", \"next_state\", \"done\"] namedtuples\n",
    "        gamma: (float) The discount factor.\n",
    "        q_network: (tf.keras.Sequential) Keras model for predicting the q_values\n",
    "        target_q_network: (tf.keras.Sequential) Karas model for predicting the targets\n",
    "    Returns:\n",
    "        Loss: (Tf Tensor (shape=(0,)) \n",
    "        )\n",
    "    '''\n",
    "    #Unpack the mini-batch of tuples\n",
    "    states,actions, rewards, next_states, done_vals = experiences\n",
    "    \n",
    "    #Compute max of Q(s,a)\n",
    "    max_qsa=tf.reduce_max(target_q_network(next_states),axis=1)\n",
    "    #above if you give like 10 states or 10X8, it will give 10 results or 10X4. But I only want to take max of each row, so axis=1 destroys all the columns into one. \n",
    "    y_target=rewards+((1-done_vals)*gamma*max_qsa)\n",
    "    \n",
    "    #compute the Q(s,a) or the current prediction (old)\n",
    "    q_values= q_network(states)\n",
    "    \n",
    "    q_values= tf.gather_nd(q_values, tf.stack([tf.range(q_values.shape[0]),tf.cast(actions,tf.int32)],axis=1))\n",
    "    # so q_values is observed value and y_target is the target/predicted value\n",
    "    loss = MSE(y_target, q_values)\n",
    "    return loss"
   ]
  },
  {
   "cell_type": "markdown",
   "metadata": {},
   "source": [
    "## 8 - Update the Network Weights\n",
    "\n",
    "We will use the `agent_learn` function below to implement lines ***12 -14***:\n",
    "> Set $y_j$ = $R_j$ if episode terminates at step j+1, otherwise set $y_i = R_j + \\gamma\\ max_{a'}\\hat{Q}(s_{j+1},a^{'})$\n",
    "\n",
    "> Perform gradient descent step on ($y_j$ - $Q(s_j,a_j;W))^2$ with respect to the Q-Network weights w\n",
    "\n",
    "> Update the weights of the $\\hat{Q}$-Network using a soft update\n",
    "\n",
    "The `agent_learn` function will update the weights of the $Q$ and target $\\hat Q$ networks using a custom training loop. Because we are using a custom training loop we need to retrieve the gradients via a `tf.GradientTape` instance, and then call `optimizer.apply_gradients()` to update the weights of our $Q$-Network. Note that we are also using the `@tf.function` decorator to increase performance. Without this decorator our training will take twice as long. \n",
    "\n",
    "The last line of this function updates the weights of the target $\\hat Q$-Network using a [soft update](#6.1)"
   ]
  },
  {
   "cell_type": "code",
   "execution_count": 10,
   "metadata": {},
   "outputs": [],
   "source": [
    "@tf.function\n",
    "def agent_learn(experiences, gamma):\n",
    "    '''\n",
    "    Function to learn the Q-network\n",
    "    Args:\n",
    "        experiences: (tuple) tuple of [\"state\", \"action\", \"reward\", \"next_state\", \"done\"] namedtuples\n",
    "        gamma: (float) The discount factor.\n",
    "    '''\n",
    "    #Calculate the loss\n",
    "    with tf.GradientTape() as tape:\n",
    "        loss=compute_loss(experiences,gamma,q_network, target_q_network)\n",
    "    \n",
    "    #Get the gradients of the loss with respect to the weight\n",
    "    gradients=tape.gradient(loss, q_network.trainable_variables)\n",
    "    \n",
    "    #Update the weights of the network\n",
    "    #Go through all the weights and apply the gradients to make it more accurate and minimize the loss\n",
    "    #Our Adam optimizer tries to find the most efficient way down the error hill \n",
    "    #The zip function creates pairs between gradients and variables. Each pair corresponds to the gradient of the loss with respect to the variable. \n",
    "    \n",
    "    # Apply gradients one by one\n",
    "    optimizer.apply_gradients(zip(gradients, q_network.trainable_variables))\n",
    "    \n",
    "    #Now I've updated the weights of the current q_network, but what about the target q_network?\n",
    "    #update the weights of the target q_network using a soft update\n",
    "    utils.update_target_network(q_network, target_q_network)\n",
    "    '''\n",
    "    The weights of the target_q_network are updated using the soft update rule:\n",
    "                    w_target = (TAU * w) + (1 - TAU) * w_target\n",
    "\n",
    "    where w_target are the weights of the target_q_network, TAU is the soft update\n",
    "    parameter, and w are the weights of the q_network:\n",
    "    \n",
    "    for target_weights, q_net_weights in zip(target_q_network.weights, q_network.weights):\n",
    "        target_weights.assign(TAU * q_net_weights + (1.0 - TAU) * target_weights)\n",
    "'''\n",
    "    "
   ]
  },
  {
   "cell_type": "markdown",
   "metadata": {},
   "source": [
    "## Train the Agent\n",
    "\n",
    "We are now ready to train our agent to solve the Lunar Lander environment. In the cell below we will implement the `Deep Q-Learning with Experience Relay` algorithm. \n",
    "\n",
    "* **Line 1**: We initialize the `memory_buffer` with a capacity of $N =$ `MEMORY_SIZE`. Notice that we are using a `deque` as the data structure for our `memory_buffer`.\n",
    "\n",
    "* **Line 2**: We skip this line since we already initialized the `q_network` - when we created our neural network. \n",
    "\n",
    "* **Line 3**: We initialize the `target_q_network` by setting its weights to be equal to those of the `q_network`.\n",
    "\n",
    "* **Line 4**: We start the outer loop. Notice that we have set $M =$ `num_episodes = 2000`. This number is reasonable because the agent should be able to solve the Lunar Lander environment in less than `2000` episodes.\n",
    "\n",
    "* **Line 5**: We use the `.reset()` method to reset the environment to the initial state and get the initial state\n",
    "\n",
    "* **Line 6**: We start the inner loop. Notice that we have set $T =$ `max_num_timesteps = 1000`. This means that the episode will automatically terminate if the episode hasn't terminated after `1000` time steps. It would otherwise terminate when the lunar lander crashes, or when it lands, or when it exits out of range. \n",
    "\n",
    "* **Line 7**: The agent observes the current `state` and chooses an `action` using an $\\epsilon$-greedy policy. Our agent starts out using a value of $\\epsilon =$ `epsilon = 1` which yields an $\\epsilon$-greedy policy that is equivalent to the equiprobable random policy. This means that at the beginning of our training, the agent is just going to take random actions regardless of the observed `state`. As training progresses we will decrease the value of $\\epsilon$ slowly towards a minimum value using a given $\\epsilon$-decay rate. We want this minimum value to be close to zero because a value of $\\epsilon = 0$ will yield an $\\epsilon$-greedy policy that is equivalent to the greedy policy. This means that towards the end of training, the agent will lean towards selecting the `action` that it believes (based on its past experiences) will maximize $Q(s,a)$. We will set the minimum $\\epsilon$ value to be `0.01` and not exactly 0 because we always want to keep a little bit of exploration during training\n",
    "\n",
    "* **Line 8**: We use the `.step()` method to take the given `action` in the environment and get the `reward` and the `next_state`. \n",
    "\n",
    "* **Line 9**: We store the `experience(state, action, reward, next_state, done)` tuple in our `memory_buffer`. Notice that we also store the `done` variable so that we can keep track of when an episode terminates. This allowed us to set the $y$ targets.\n",
    "\n",
    "* **Line 10**: We check if the conditions are met to perform a learning update. We do this by using our custom `utils.check_update_conditions` function. This function checks if $C =$ `NUM_STEPS_FOR_UPDATE = 4` time steps have occured and if our `memory_buffer` has enough experience tuples to fill a mini-batch. For example, if the mini-batch size is `64`, then our `memory_buffer` should have more than `64` experience tuples in order to pass the latter condition. If the conditions are met, then the `utils.check_update_conditions` function will return a value of `True`, otherwise it will return a value of `False`.\n",
    "\n",
    "\n",
    "* **Lines 11 - 14**: If the `update` variable is `True` then we perform a learning update. The learning update consists of sampling a random mini-batch of experience tuples from our `memory_buffer`, setting the $y$ targets, performing gradient descent, and updating the weights of the networks. We will use the `agent_learn` function we defined to perform the latter 3.\n",
    "\n",
    "\n",
    "* **Line 15**: At the end of each iteration of the inner loop we set `next_state` as our new `state` so that the loop can start again from this new state. In addition, we check if the episode has reached a terminal state (i.e we check if `done = True`). If a terminal state has been reached, then we break out of the inner loop.\n",
    "\n",
    "\n",
    "* **Line 16**: At the end of each iteration of the outer loop we update the value of $\\epsilon$, and check if the environment has been solved. We consider that the environment has been solved if the agent receives an average of `200` points in the last `100` episodes. If the environment has not been solved we continue the outer loop and start a new episode.\n",
    "\n",
    "Finally, we wanted to note that we have included some extra variables to keep track of the total number of points the agent received in each episode. This will help us determine if the agent has solved the environment and it will also allow us to see how our agent performed during training. We also use the `time` module to measure how long the training takes. \n",
    "\n",
    "<br>\n",
    "<br>\n",
    "<figure>\n",
    "  <img src = \"images/deep_q_algorithm.png\" width = 90% style = \"border: thin silver solid; padding: 0px\">\n",
    "      <figcaption style = \"text-align: center; font-style: italic\">Fig 4. Deep Q-Learning with Experience Replay.</figcaption>\n",
    "</figure>\n",
    "<br>"
   ]
  },
  {
   "cell_type": "code",
   "execution_count": 130,
   "metadata": {},
   "outputs": [
    {
     "name": "stdout",
     "output_type": "stream",
     "text": [
      "Episode 54 | Total point average of the last 100 episodes: -126.69"
     ]
    },
    {
     "ename": "KeyboardInterrupt",
     "evalue": "",
     "output_type": "error",
     "traceback": [
      "\u001b[0;31m---------------------------------------------------------------------------\u001b[0m",
      "\u001b[0;31mKeyboardInterrupt\u001b[0m                         Traceback (most recent call last)",
      "\u001b[0;32m/var/folders/7w/_mlss0xj7rjg2ks2_lq60k480000gn/T/ipykernel_29620/2468650074.py\u001b[0m in \u001b[0;36m?\u001b[0;34m()\u001b[0m\n\u001b[1;32m     18\u001b[0m     \u001b[0mtotal_points\u001b[0m\u001b[0;34m=\u001b[0m\u001b[0;36m0\u001b[0m\u001b[0;34m\u001b[0m\u001b[0;34m\u001b[0m\u001b[0m\n\u001b[1;32m     19\u001b[0m     \u001b[0mstate\u001b[0m\u001b[0;34m=\u001b[0m\u001b[0mthe_state\u001b[0m\u001b[0;34m[\u001b[0m\u001b[0;36m0\u001b[0m\u001b[0;34m]\u001b[0m\u001b[0;34m\u001b[0m\u001b[0;34m\u001b[0m\u001b[0m\n\u001b[1;32m     20\u001b[0m     \u001b[0;32mfor\u001b[0m \u001b[0mt\u001b[0m \u001b[0;32min\u001b[0m \u001b[0mrange\u001b[0m\u001b[0;34m(\u001b[0m\u001b[0mmax_num_iterations\u001b[0m\u001b[0;34m)\u001b[0m\u001b[0;34m:\u001b[0m\u001b[0;34m\u001b[0m\u001b[0;34m\u001b[0m\u001b[0m\n\u001b[1;32m     21\u001b[0m         \u001b[0mstate_qn\u001b[0m\u001b[0;34m=\u001b[0m\u001b[0mnp\u001b[0m\u001b[0;34m.\u001b[0m\u001b[0mexpand_dims\u001b[0m\u001b[0;34m(\u001b[0m\u001b[0mstate\u001b[0m\u001b[0;34m,\u001b[0m\u001b[0maxis\u001b[0m\u001b[0;34m=\u001b[0m\u001b[0;36m0\u001b[0m\u001b[0;34m)\u001b[0m \u001b[0;31m#Get it to be a 1X8 matrix instead of an 8, array\u001b[0m\u001b[0;34m\u001b[0m\u001b[0;34m\u001b[0m\u001b[0m\n\u001b[0;32m---> 22\u001b[0;31m         \u001b[0mq_values\u001b[0m\u001b[0;34m=\u001b[0m\u001b[0mq_network\u001b[0m\u001b[0;34m(\u001b[0m\u001b[0mstate_qn\u001b[0m\u001b[0;34m)\u001b[0m\u001b[0;34m\u001b[0m\u001b[0;34m\u001b[0m\u001b[0m\n\u001b[0m\u001b[1;32m     23\u001b[0m \u001b[0;34m\u001b[0m\u001b[0m\n\u001b[1;32m     24\u001b[0m         ''' get_action function\n\u001b[1;32m     25\u001b[0m         \u001b[0;32mif\u001b[0m \u001b[0mrandom\u001b[0m\u001b[0;34m.\u001b[0m\u001b[0mrandom\u001b[0m\u001b[0;34m(\u001b[0m\u001b[0;34m)\u001b[0m \u001b[0;34m>\u001b[0m \u001b[0mepsilon\u001b[0m\u001b[0;34m:\u001b[0m\u001b[0;34m\u001b[0m\u001b[0;34m\u001b[0m\u001b[0m\n",
      "\u001b[0;32m~/Desktop/University/Projects/Deep Q Learning- Landing on the Moon/lunarlanding/lib/python3.11/site-packages/keras/src/utils/traceback_utils.py\u001b[0m in \u001b[0;36m?\u001b[0;34m(*args, **kwargs)\u001b[0m\n\u001b[1;32m    120\u001b[0m             \u001b[0;31m# To get the full stack trace, call:\u001b[0m\u001b[0;34m\u001b[0m\u001b[0;34m\u001b[0m\u001b[0m\n\u001b[1;32m    121\u001b[0m             \u001b[0;31m# `keras.config.disable_traceback_filtering()`\u001b[0m\u001b[0;34m\u001b[0m\u001b[0;34m\u001b[0m\u001b[0m\n\u001b[1;32m    122\u001b[0m             \u001b[0;32mraise\u001b[0m \u001b[0me\u001b[0m\u001b[0;34m.\u001b[0m\u001b[0mwith_traceback\u001b[0m\u001b[0;34m(\u001b[0m\u001b[0mfiltered_tb\u001b[0m\u001b[0;34m)\u001b[0m \u001b[0;32mfrom\u001b[0m \u001b[0;32mNone\u001b[0m\u001b[0;34m\u001b[0m\u001b[0;34m\u001b[0m\u001b[0m\n\u001b[1;32m    123\u001b[0m         \u001b[0;32mfinally\u001b[0m\u001b[0;34m:\u001b[0m\u001b[0;34m\u001b[0m\u001b[0;34m\u001b[0m\u001b[0m\n\u001b[0;32m--> 124\u001b[0;31m             \u001b[0;32mdel\u001b[0m \u001b[0mfiltered_tb\u001b[0m\u001b[0;34m\u001b[0m\u001b[0;34m\u001b[0m\u001b[0m\n\u001b[0m",
      "\u001b[0;32m~/Desktop/University/Projects/Deep Q Learning- Landing on the Moon/lunarlanding/lib/python3.11/site-packages/keras/src/layers/layer.py\u001b[0m in \u001b[0;36m?\u001b[0;34m(self, *args, **kwargs)\u001b[0m\n\u001b[1;32m    862\u001b[0m                     \u001b[0;34m\"layers will not see the mask.\"\u001b[0m\u001b[0;34m\u001b[0m\u001b[0;34m\u001b[0m\u001b[0m\n\u001b[1;32m    863\u001b[0m                 )\n\u001b[1;32m    864\u001b[0m         \u001b[0;32mfinally\u001b[0m\u001b[0;34m:\u001b[0m\u001b[0;34m\u001b[0m\u001b[0;34m\u001b[0m\u001b[0m\n\u001b[1;32m    865\u001b[0m             \u001b[0;31m# Destroy call context if we created it\u001b[0m\u001b[0;34m\u001b[0m\u001b[0;34m\u001b[0m\u001b[0m\n\u001b[0;32m--> 866\u001b[0;31m             \u001b[0mself\u001b[0m\u001b[0;34m.\u001b[0m\u001b[0m_maybe_reset_call_context\u001b[0m\u001b[0;34m(\u001b[0m\u001b[0;34m)\u001b[0m\u001b[0;34m\u001b[0m\u001b[0;34m\u001b[0m\u001b[0m\n\u001b[0m\u001b[1;32m    867\u001b[0m         \u001b[0;32mreturn\u001b[0m \u001b[0moutputs\u001b[0m\u001b[0;34m\u001b[0m\u001b[0;34m\u001b[0m\u001b[0m\n",
      "\u001b[0;32m~/Desktop/University/Projects/Deep Q Learning- Landing on the Moon/lunarlanding/lib/python3.11/site-packages/keras/src/utils/traceback_utils.py\u001b[0m in \u001b[0;36m?\u001b[0;34m(*args, **kwargs)\u001b[0m\n\u001b[1;32m    120\u001b[0m             \u001b[0;31m# To get the full stack trace, call:\u001b[0m\u001b[0;34m\u001b[0m\u001b[0;34m\u001b[0m\u001b[0m\n\u001b[1;32m    121\u001b[0m             \u001b[0;31m# `keras.config.disable_traceback_filtering()`\u001b[0m\u001b[0;34m\u001b[0m\u001b[0;34m\u001b[0m\u001b[0m\n\u001b[1;32m    122\u001b[0m             \u001b[0;32mraise\u001b[0m \u001b[0me\u001b[0m\u001b[0;34m.\u001b[0m\u001b[0mwith_traceback\u001b[0m\u001b[0;34m(\u001b[0m\u001b[0mfiltered_tb\u001b[0m\u001b[0;34m)\u001b[0m \u001b[0;32mfrom\u001b[0m \u001b[0;32mNone\u001b[0m\u001b[0;34m\u001b[0m\u001b[0;34m\u001b[0m\u001b[0m\n\u001b[1;32m    123\u001b[0m         \u001b[0;32mfinally\u001b[0m\u001b[0;34m:\u001b[0m\u001b[0;34m\u001b[0m\u001b[0;34m\u001b[0m\u001b[0m\n\u001b[0;32m--> 124\u001b[0;31m             \u001b[0;32mdel\u001b[0m \u001b[0mfiltered_tb\u001b[0m\u001b[0;34m\u001b[0m\u001b[0;34m\u001b[0m\u001b[0m\n\u001b[0m",
      "\u001b[0;32m~/Desktop/University/Projects/Deep Q Learning- Landing on the Moon/lunarlanding/lib/python3.11/site-packages/keras/src/ops/operation.py\u001b[0m in \u001b[0;36m?\u001b[0;34m(self, *args, **kwargs)\u001b[0m\n\u001b[1;32m     44\u001b[0m             call_fn = traceback_utils.inject_argument_info_in_traceback(\n\u001b[1;32m     45\u001b[0m                 \u001b[0mcall_fn\u001b[0m\u001b[0;34m,\u001b[0m\u001b[0;34m\u001b[0m\u001b[0;34m\u001b[0m\u001b[0m\n\u001b[1;32m     46\u001b[0m                 \u001b[0mobject_name\u001b[0m\u001b[0;34m=\u001b[0m\u001b[0;34m(\u001b[0m\u001b[0;34mf\"{self.__class__.__name__}.call()\"\u001b[0m\u001b[0;34m)\u001b[0m\u001b[0;34m,\u001b[0m\u001b[0;34m\u001b[0m\u001b[0;34m\u001b[0m\u001b[0m\n\u001b[1;32m     47\u001b[0m             )\n\u001b[0;32m---> 48\u001b[0;31m             \u001b[0;32mreturn\u001b[0m \u001b[0mcall_fn\u001b[0m\u001b[0;34m(\u001b[0m\u001b[0;34m*\u001b[0m\u001b[0margs\u001b[0m\u001b[0;34m,\u001b[0m \u001b[0;34m**\u001b[0m\u001b[0mkwargs\u001b[0m\u001b[0;34m)\u001b[0m\u001b[0;34m\u001b[0m\u001b[0;34m\u001b[0m\u001b[0m\n\u001b[0m\u001b[1;32m     49\u001b[0m \u001b[0;34m\u001b[0m\u001b[0m\n\u001b[1;32m     50\u001b[0m         \u001b[0;31m# Plain flow.\u001b[0m\u001b[0;34m\u001b[0m\u001b[0;34m\u001b[0m\u001b[0m\n\u001b[1;32m     51\u001b[0m         \u001b[0;32mif\u001b[0m \u001b[0many_symbolic_tensors\u001b[0m\u001b[0;34m(\u001b[0m\u001b[0margs\u001b[0m\u001b[0;34m,\u001b[0m \u001b[0mkwargs\u001b[0m\u001b[0;34m)\u001b[0m\u001b[0;34m:\u001b[0m\u001b[0;34m\u001b[0m\u001b[0;34m\u001b[0m\u001b[0m\n",
      "\u001b[0;32m~/Desktop/University/Projects/Deep Q Learning- Landing on the Moon/lunarlanding/lib/python3.11/site-packages/keras/src/utils/traceback_utils.py\u001b[0m in \u001b[0;36m?\u001b[0;34m(*args, **kwargs)\u001b[0m\n\u001b[1;32m    213\u001b[0m                 \u001b[0mnew_e\u001b[0m \u001b[0;34m=\u001b[0m \u001b[0me\u001b[0m\u001b[0;34m\u001b[0m\u001b[0;34m\u001b[0m\u001b[0m\n\u001b[1;32m    214\u001b[0m             \u001b[0;32mraise\u001b[0m \u001b[0mnew_e\u001b[0m\u001b[0;34m.\u001b[0m\u001b[0mwith_traceback\u001b[0m\u001b[0;34m(\u001b[0m\u001b[0me\u001b[0m\u001b[0;34m.\u001b[0m\u001b[0m__traceback__\u001b[0m\u001b[0;34m)\u001b[0m \u001b[0;32mfrom\u001b[0m \u001b[0;32mNone\u001b[0m\u001b[0;34m\u001b[0m\u001b[0;34m\u001b[0m\u001b[0m\n\u001b[1;32m    215\u001b[0m         \u001b[0;32mfinally\u001b[0m\u001b[0;34m:\u001b[0m\u001b[0;34m\u001b[0m\u001b[0;34m\u001b[0m\u001b[0m\n\u001b[1;32m    216\u001b[0m             \u001b[0;32mdel\u001b[0m \u001b[0msignature\u001b[0m\u001b[0;34m\u001b[0m\u001b[0;34m\u001b[0m\u001b[0m\n\u001b[0;32m--> 217\u001b[0;31m             \u001b[0;32mdel\u001b[0m \u001b[0mbound_signature\u001b[0m\u001b[0;34m\u001b[0m\u001b[0;34m\u001b[0m\u001b[0m\n\u001b[0m",
      "\u001b[0;32m~/Desktop/University/Projects/Deep Q Learning- Landing on the Moon/lunarlanding/lib/python3.11/site-packages/keras/src/models/sequential.py\u001b[0m in \u001b[0;36m?\u001b[0;34m(self, inputs, training, mask)\u001b[0m\n\u001b[1;32m    204\u001b[0m     \u001b[0;32mdef\u001b[0m \u001b[0mcall\u001b[0m\u001b[0;34m(\u001b[0m\u001b[0mself\u001b[0m\u001b[0;34m,\u001b[0m \u001b[0minputs\u001b[0m\u001b[0;34m,\u001b[0m \u001b[0mtraining\u001b[0m\u001b[0;34m=\u001b[0m\u001b[0;32mNone\u001b[0m\u001b[0;34m,\u001b[0m \u001b[0mmask\u001b[0m\u001b[0;34m=\u001b[0m\u001b[0;32mNone\u001b[0m\u001b[0;34m)\u001b[0m\u001b[0;34m:\u001b[0m\u001b[0;34m\u001b[0m\u001b[0;34m\u001b[0m\u001b[0m\n\u001b[1;32m    205\u001b[0m         \u001b[0;32mif\u001b[0m \u001b[0mself\u001b[0m\u001b[0;34m.\u001b[0m\u001b[0m_functional\u001b[0m\u001b[0;34m:\u001b[0m\u001b[0;34m\u001b[0m\u001b[0;34m\u001b[0m\u001b[0m\n\u001b[0;32m--> 206\u001b[0;31m             \u001b[0;32mreturn\u001b[0m \u001b[0mself\u001b[0m\u001b[0;34m.\u001b[0m\u001b[0m_functional\u001b[0m\u001b[0;34m.\u001b[0m\u001b[0mcall\u001b[0m\u001b[0;34m(\u001b[0m\u001b[0minputs\u001b[0m\u001b[0;34m,\u001b[0m \u001b[0mtraining\u001b[0m\u001b[0;34m=\u001b[0m\u001b[0mtraining\u001b[0m\u001b[0;34m,\u001b[0m \u001b[0mmask\u001b[0m\u001b[0;34m=\u001b[0m\u001b[0mmask\u001b[0m\u001b[0;34m)\u001b[0m\u001b[0;34m\u001b[0m\u001b[0;34m\u001b[0m\u001b[0m\n\u001b[0m\u001b[1;32m    207\u001b[0m \u001b[0;34m\u001b[0m\u001b[0m\n\u001b[1;32m    208\u001b[0m         \u001b[0;31m# Fallback: Just apply the layer sequence.\u001b[0m\u001b[0;34m\u001b[0m\u001b[0;34m\u001b[0m\u001b[0m\n\u001b[1;32m    209\u001b[0m         \u001b[0;31m# This typically happens if `inputs` is a nested struct.\u001b[0m\u001b[0;34m\u001b[0m\u001b[0;34m\u001b[0m\u001b[0m\n",
      "\u001b[0;32m~/Desktop/University/Projects/Deep Q Learning- Landing on the Moon/lunarlanding/lib/python3.11/site-packages/keras/src/models/functional.py\u001b[0m in \u001b[0;36m?\u001b[0;34m(self, inputs, training, mask)\u001b[0m\n\u001b[1;32m    195\u001b[0m             \u001b[0mmasks\u001b[0m \u001b[0;34m=\u001b[0m \u001b[0mself\u001b[0m\u001b[0;34m.\u001b[0m\u001b[0m_flatten_to_reference_inputs\u001b[0m\u001b[0;34m(\u001b[0m\u001b[0mmask\u001b[0m\u001b[0;34m)\u001b[0m\u001b[0;34m\u001b[0m\u001b[0;34m\u001b[0m\u001b[0m\n\u001b[1;32m    196\u001b[0m             \u001b[0;32mfor\u001b[0m \u001b[0mx\u001b[0m\u001b[0;34m,\u001b[0m \u001b[0mmask\u001b[0m \u001b[0;32min\u001b[0m \u001b[0mzip\u001b[0m\u001b[0;34m(\u001b[0m\u001b[0minputs\u001b[0m\u001b[0;34m,\u001b[0m \u001b[0mmasks\u001b[0m\u001b[0;34m)\u001b[0m\u001b[0;34m:\u001b[0m\u001b[0;34m\u001b[0m\u001b[0;34m\u001b[0m\u001b[0m\n\u001b[1;32m    197\u001b[0m                 \u001b[0;32mif\u001b[0m \u001b[0mmask\u001b[0m \u001b[0;32mis\u001b[0m \u001b[0;32mnot\u001b[0m \u001b[0;32mNone\u001b[0m\u001b[0;34m:\u001b[0m\u001b[0;34m\u001b[0m\u001b[0;34m\u001b[0m\u001b[0m\n\u001b[1;32m    198\u001b[0m                     \u001b[0mx\u001b[0m\u001b[0;34m.\u001b[0m\u001b[0m_keras_mask\u001b[0m \u001b[0;34m=\u001b[0m \u001b[0mmask\u001b[0m\u001b[0;34m\u001b[0m\u001b[0;34m\u001b[0m\u001b[0m\n\u001b[0;32m--> 199\u001b[0;31m         outputs = self._run_through_graph(\n\u001b[0m\u001b[1;32m    200\u001b[0m             \u001b[0minputs\u001b[0m\u001b[0;34m,\u001b[0m \u001b[0moperation_fn\u001b[0m\u001b[0;34m=\u001b[0m\u001b[0;32mlambda\u001b[0m \u001b[0mop\u001b[0m\u001b[0;34m:\u001b[0m \u001b[0moperation_fn\u001b[0m\u001b[0;34m(\u001b[0m\u001b[0mop\u001b[0m\u001b[0;34m,\u001b[0m \u001b[0mtraining\u001b[0m\u001b[0;34m=\u001b[0m\u001b[0mtraining\u001b[0m\u001b[0;34m)\u001b[0m\u001b[0;34m\u001b[0m\u001b[0;34m\u001b[0m\u001b[0m\n\u001b[1;32m    201\u001b[0m         )\n\u001b[1;32m    202\u001b[0m         \u001b[0;32mreturn\u001b[0m \u001b[0munpack_singleton\u001b[0m\u001b[0;34m(\u001b[0m\u001b[0moutputs\u001b[0m\u001b[0;34m)\u001b[0m\u001b[0;34m\u001b[0m\u001b[0;34m\u001b[0m\u001b[0m\n",
      "\u001b[0;32m~/Desktop/University/Projects/Deep Q Learning- Landing on the Moon/lunarlanding/lib/python3.11/site-packages/keras/src/ops/function.py\u001b[0m in \u001b[0;36m?\u001b[0;34m(self, inputs, operation_fn)\u001b[0m\n\u001b[1;32m    147\u001b[0m                 \u001b[0;32mif\u001b[0m \u001b[0many\u001b[0m\u001b[0;34m(\u001b[0m\u001b[0mid\u001b[0m\u001b[0;34m(\u001b[0m\u001b[0mx\u001b[0m\u001b[0;34m)\u001b[0m \u001b[0;32mnot\u001b[0m \u001b[0;32min\u001b[0m \u001b[0mtensor_dict\u001b[0m \u001b[0;32mfor\u001b[0m \u001b[0mx\u001b[0m \u001b[0;32min\u001b[0m \u001b[0mnode\u001b[0m\u001b[0;34m.\u001b[0m\u001b[0minput_tensors\u001b[0m\u001b[0;34m)\u001b[0m\u001b[0;34m:\u001b[0m\u001b[0;34m\u001b[0m\u001b[0;34m\u001b[0m\u001b[0m\n\u001b[1;32m    148\u001b[0m                     \u001b[0;32mcontinue\u001b[0m  \u001b[0;31m# Node is not computable, try skipping.\u001b[0m\u001b[0;34m\u001b[0m\u001b[0;34m\u001b[0m\u001b[0m\n\u001b[1;32m    149\u001b[0m \u001b[0;34m\u001b[0m\u001b[0m\n\u001b[1;32m    150\u001b[0m                 \u001b[0margs\u001b[0m\u001b[0;34m,\u001b[0m \u001b[0mkwargs\u001b[0m \u001b[0;34m=\u001b[0m \u001b[0mnode\u001b[0m\u001b[0;34m.\u001b[0m\u001b[0marguments\u001b[0m\u001b[0;34m.\u001b[0m\u001b[0mfill_in\u001b[0m\u001b[0;34m(\u001b[0m\u001b[0mtensor_dict\u001b[0m\u001b[0;34m)\u001b[0m\u001b[0;34m\u001b[0m\u001b[0;34m\u001b[0m\u001b[0m\n\u001b[0;32m--> 151\u001b[0;31m                 \u001b[0moutputs\u001b[0m \u001b[0;34m=\u001b[0m \u001b[0moperation_fn\u001b[0m\u001b[0;34m(\u001b[0m\u001b[0mnode\u001b[0m\u001b[0;34m.\u001b[0m\u001b[0moperation\u001b[0m\u001b[0;34m)\u001b[0m\u001b[0;34m(\u001b[0m\u001b[0;34m*\u001b[0m\u001b[0margs\u001b[0m\u001b[0;34m,\u001b[0m \u001b[0;34m**\u001b[0m\u001b[0mkwargs\u001b[0m\u001b[0;34m)\u001b[0m\u001b[0;34m\u001b[0m\u001b[0;34m\u001b[0m\u001b[0m\n\u001b[0m\u001b[1;32m    152\u001b[0m \u001b[0;34m\u001b[0m\u001b[0m\n\u001b[1;32m    153\u001b[0m                 \u001b[0;31m# Update tensor_dict.\u001b[0m\u001b[0;34m\u001b[0m\u001b[0;34m\u001b[0m\u001b[0m\n\u001b[1;32m    154\u001b[0m                 \u001b[0;32mfor\u001b[0m \u001b[0mx\u001b[0m\u001b[0;34m,\u001b[0m \u001b[0my\u001b[0m \u001b[0;32min\u001b[0m \u001b[0mzip\u001b[0m\u001b[0;34m(\u001b[0m\u001b[0mnode\u001b[0m\u001b[0;34m.\u001b[0m\u001b[0moutputs\u001b[0m\u001b[0;34m,\u001b[0m \u001b[0mtree\u001b[0m\u001b[0;34m.\u001b[0m\u001b[0mflatten\u001b[0m\u001b[0;34m(\u001b[0m\u001b[0moutputs\u001b[0m\u001b[0;34m)\u001b[0m\u001b[0;34m)\u001b[0m\u001b[0;34m:\u001b[0m\u001b[0;34m\u001b[0m\u001b[0;34m\u001b[0m\u001b[0m\n",
      "\u001b[0;32m~/Desktop/University/Projects/Deep Q Learning- Landing on the Moon/lunarlanding/lib/python3.11/site-packages/keras/src/models/functional.py\u001b[0m in \u001b[0;36m?\u001b[0;34m(*args, **kwargs)\u001b[0m\n\u001b[1;32m    579\u001b[0m             \u001b[0;32mand\u001b[0m \u001b[0moperation\u001b[0m\u001b[0;34m.\u001b[0m\u001b[0m_call_has_training_arg\u001b[0m\u001b[0;34m\u001b[0m\u001b[0;34m\u001b[0m\u001b[0m\n\u001b[1;32m    580\u001b[0m             \u001b[0;32mand\u001b[0m \u001b[0mtraining\u001b[0m \u001b[0;32mis\u001b[0m \u001b[0;32mnot\u001b[0m \u001b[0;32mNone\u001b[0m\u001b[0;34m\u001b[0m\u001b[0;34m\u001b[0m\u001b[0m\n\u001b[1;32m    581\u001b[0m         ):\n\u001b[1;32m    582\u001b[0m             \u001b[0mkwargs\u001b[0m\u001b[0;34m[\u001b[0m\u001b[0;34m\"training\"\u001b[0m\u001b[0;34m]\u001b[0m \u001b[0;34m=\u001b[0m \u001b[0mtraining\u001b[0m\u001b[0;34m\u001b[0m\u001b[0;34m\u001b[0m\u001b[0m\n\u001b[0;32m--> 583\u001b[0;31m         \u001b[0;32mreturn\u001b[0m \u001b[0moperation\u001b[0m\u001b[0;34m(\u001b[0m\u001b[0;34m*\u001b[0m\u001b[0margs\u001b[0m\u001b[0;34m,\u001b[0m \u001b[0;34m**\u001b[0m\u001b[0mkwargs\u001b[0m\u001b[0;34m)\u001b[0m\u001b[0;34m\u001b[0m\u001b[0;34m\u001b[0m\u001b[0m\n\u001b[0m",
      "\u001b[0;32m~/Desktop/University/Projects/Deep Q Learning- Landing on the Moon/lunarlanding/lib/python3.11/site-packages/keras/src/utils/traceback_utils.py\u001b[0m in \u001b[0;36m?\u001b[0;34m(*args, **kwargs)\u001b[0m\n\u001b[1;32m    120\u001b[0m             \u001b[0;31m# To get the full stack trace, call:\u001b[0m\u001b[0;34m\u001b[0m\u001b[0;34m\u001b[0m\u001b[0m\n\u001b[1;32m    121\u001b[0m             \u001b[0;31m# `keras.config.disable_traceback_filtering()`\u001b[0m\u001b[0;34m\u001b[0m\u001b[0;34m\u001b[0m\u001b[0m\n\u001b[1;32m    122\u001b[0m             \u001b[0;32mraise\u001b[0m \u001b[0me\u001b[0m\u001b[0;34m.\u001b[0m\u001b[0mwith_traceback\u001b[0m\u001b[0;34m(\u001b[0m\u001b[0mfiltered_tb\u001b[0m\u001b[0;34m)\u001b[0m \u001b[0;32mfrom\u001b[0m \u001b[0;32mNone\u001b[0m\u001b[0;34m\u001b[0m\u001b[0;34m\u001b[0m\u001b[0m\n\u001b[1;32m    123\u001b[0m         \u001b[0;32mfinally\u001b[0m\u001b[0;34m:\u001b[0m\u001b[0;34m\u001b[0m\u001b[0;34m\u001b[0m\u001b[0m\n\u001b[0;32m--> 124\u001b[0;31m             \u001b[0;32mdel\u001b[0m \u001b[0mfiltered_tb\u001b[0m\u001b[0;34m\u001b[0m\u001b[0;34m\u001b[0m\u001b[0m\n\u001b[0m",
      "\u001b[0;32m~/Desktop/University/Projects/Deep Q Learning- Landing on the Moon/lunarlanding/lib/python3.11/site-packages/keras/src/layers/layer.py\u001b[0m in \u001b[0;36m?\u001b[0;34m(self, *args, **kwargs)\u001b[0m\n\u001b[1;32m    862\u001b[0m                     \u001b[0;34m\"layers will not see the mask.\"\u001b[0m\u001b[0;34m\u001b[0m\u001b[0;34m\u001b[0m\u001b[0m\n\u001b[1;32m    863\u001b[0m                 )\n\u001b[1;32m    864\u001b[0m         \u001b[0;32mfinally\u001b[0m\u001b[0;34m:\u001b[0m\u001b[0;34m\u001b[0m\u001b[0;34m\u001b[0m\u001b[0m\n\u001b[1;32m    865\u001b[0m             \u001b[0;31m# Destroy call context if we created it\u001b[0m\u001b[0;34m\u001b[0m\u001b[0;34m\u001b[0m\u001b[0m\n\u001b[0;32m--> 866\u001b[0;31m             \u001b[0mself\u001b[0m\u001b[0;34m.\u001b[0m\u001b[0m_maybe_reset_call_context\u001b[0m\u001b[0;34m(\u001b[0m\u001b[0;34m)\u001b[0m\u001b[0;34m\u001b[0m\u001b[0;34m\u001b[0m\u001b[0m\n\u001b[0m\u001b[1;32m    867\u001b[0m         \u001b[0;32mreturn\u001b[0m \u001b[0moutputs\u001b[0m\u001b[0;34m\u001b[0m\u001b[0;34m\u001b[0m\u001b[0m\n",
      "\u001b[0;32m~/Desktop/University/Projects/Deep Q Learning- Landing on the Moon/lunarlanding/lib/python3.11/site-packages/keras/src/utils/traceback_utils.py\u001b[0m in \u001b[0;36m?\u001b[0;34m(*args, **kwargs)\u001b[0m\n\u001b[1;32m    120\u001b[0m             \u001b[0;31m# To get the full stack trace, call:\u001b[0m\u001b[0;34m\u001b[0m\u001b[0;34m\u001b[0m\u001b[0m\n\u001b[1;32m    121\u001b[0m             \u001b[0;31m# `keras.config.disable_traceback_filtering()`\u001b[0m\u001b[0;34m\u001b[0m\u001b[0;34m\u001b[0m\u001b[0m\n\u001b[1;32m    122\u001b[0m             \u001b[0;32mraise\u001b[0m \u001b[0me\u001b[0m\u001b[0;34m.\u001b[0m\u001b[0mwith_traceback\u001b[0m\u001b[0;34m(\u001b[0m\u001b[0mfiltered_tb\u001b[0m\u001b[0;34m)\u001b[0m \u001b[0;32mfrom\u001b[0m \u001b[0;32mNone\u001b[0m\u001b[0;34m\u001b[0m\u001b[0;34m\u001b[0m\u001b[0m\n\u001b[1;32m    123\u001b[0m         \u001b[0;32mfinally\u001b[0m\u001b[0;34m:\u001b[0m\u001b[0;34m\u001b[0m\u001b[0;34m\u001b[0m\u001b[0m\n\u001b[0;32m--> 124\u001b[0;31m             \u001b[0;32mdel\u001b[0m \u001b[0mfiltered_tb\u001b[0m\u001b[0;34m\u001b[0m\u001b[0;34m\u001b[0m\u001b[0m\n\u001b[0m",
      "\u001b[0;32m~/Desktop/University/Projects/Deep Q Learning- Landing on the Moon/lunarlanding/lib/python3.11/site-packages/keras/src/ops/operation.py\u001b[0m in \u001b[0;36m?\u001b[0;34m(self, *args, **kwargs)\u001b[0m\n\u001b[1;32m     44\u001b[0m             call_fn = traceback_utils.inject_argument_info_in_traceback(\n\u001b[1;32m     45\u001b[0m                 \u001b[0mcall_fn\u001b[0m\u001b[0;34m,\u001b[0m\u001b[0;34m\u001b[0m\u001b[0;34m\u001b[0m\u001b[0m\n\u001b[1;32m     46\u001b[0m                 \u001b[0mobject_name\u001b[0m\u001b[0;34m=\u001b[0m\u001b[0;34m(\u001b[0m\u001b[0;34mf\"{self.__class__.__name__}.call()\"\u001b[0m\u001b[0;34m)\u001b[0m\u001b[0;34m,\u001b[0m\u001b[0;34m\u001b[0m\u001b[0;34m\u001b[0m\u001b[0m\n\u001b[1;32m     47\u001b[0m             )\n\u001b[0;32m---> 48\u001b[0;31m             \u001b[0;32mreturn\u001b[0m \u001b[0mcall_fn\u001b[0m\u001b[0;34m(\u001b[0m\u001b[0;34m*\u001b[0m\u001b[0margs\u001b[0m\u001b[0;34m,\u001b[0m \u001b[0;34m**\u001b[0m\u001b[0mkwargs\u001b[0m\u001b[0;34m)\u001b[0m\u001b[0;34m\u001b[0m\u001b[0;34m\u001b[0m\u001b[0m\n\u001b[0m\u001b[1;32m     49\u001b[0m \u001b[0;34m\u001b[0m\u001b[0m\n\u001b[1;32m     50\u001b[0m         \u001b[0;31m# Plain flow.\u001b[0m\u001b[0;34m\u001b[0m\u001b[0;34m\u001b[0m\u001b[0m\n\u001b[1;32m     51\u001b[0m         \u001b[0;32mif\u001b[0m \u001b[0many_symbolic_tensors\u001b[0m\u001b[0;34m(\u001b[0m\u001b[0margs\u001b[0m\u001b[0;34m,\u001b[0m \u001b[0mkwargs\u001b[0m\u001b[0;34m)\u001b[0m\u001b[0;34m:\u001b[0m\u001b[0;34m\u001b[0m\u001b[0;34m\u001b[0m\u001b[0m\n",
      "\u001b[0;32m~/Desktop/University/Projects/Deep Q Learning- Landing on the Moon/lunarlanding/lib/python3.11/site-packages/keras/src/utils/traceback_utils.py\u001b[0m in \u001b[0;36m?\u001b[0;34m(*args, **kwargs)\u001b[0m\n\u001b[1;32m    213\u001b[0m                 \u001b[0mnew_e\u001b[0m \u001b[0;34m=\u001b[0m \u001b[0me\u001b[0m\u001b[0;34m\u001b[0m\u001b[0;34m\u001b[0m\u001b[0m\n\u001b[1;32m    214\u001b[0m             \u001b[0;32mraise\u001b[0m \u001b[0mnew_e\u001b[0m\u001b[0;34m.\u001b[0m\u001b[0mwith_traceback\u001b[0m\u001b[0;34m(\u001b[0m\u001b[0me\u001b[0m\u001b[0;34m.\u001b[0m\u001b[0m__traceback__\u001b[0m\u001b[0;34m)\u001b[0m \u001b[0;32mfrom\u001b[0m \u001b[0;32mNone\u001b[0m\u001b[0;34m\u001b[0m\u001b[0;34m\u001b[0m\u001b[0m\n\u001b[1;32m    215\u001b[0m         \u001b[0;32mfinally\u001b[0m\u001b[0;34m:\u001b[0m\u001b[0;34m\u001b[0m\u001b[0;34m\u001b[0m\u001b[0m\n\u001b[1;32m    216\u001b[0m             \u001b[0;32mdel\u001b[0m \u001b[0msignature\u001b[0m\u001b[0;34m\u001b[0m\u001b[0;34m\u001b[0m\u001b[0m\n\u001b[0;32m--> 217\u001b[0;31m             \u001b[0;32mdel\u001b[0m \u001b[0mbound_signature\u001b[0m\u001b[0;34m\u001b[0m\u001b[0;34m\u001b[0m\u001b[0m\n\u001b[0m",
      "\u001b[0;32m~/Desktop/University/Projects/Deep Q Learning- Landing on the Moon/lunarlanding/lib/python3.11/site-packages/keras/src/layers/core/dense.py\u001b[0m in \u001b[0;36m?\u001b[0;34m(self, inputs)\u001b[0m\n\u001b[1;32m    143\u001b[0m         \u001b[0mx\u001b[0m \u001b[0;34m=\u001b[0m \u001b[0mops\u001b[0m\u001b[0;34m.\u001b[0m\u001b[0mmatmul\u001b[0m\u001b[0;34m(\u001b[0m\u001b[0minputs\u001b[0m\u001b[0;34m,\u001b[0m \u001b[0mself\u001b[0m\u001b[0;34m.\u001b[0m\u001b[0mkernel\u001b[0m\u001b[0;34m)\u001b[0m\u001b[0;34m\u001b[0m\u001b[0;34m\u001b[0m\u001b[0m\n\u001b[1;32m    144\u001b[0m         \u001b[0;32mif\u001b[0m \u001b[0mself\u001b[0m\u001b[0;34m.\u001b[0m\u001b[0mbias\u001b[0m \u001b[0;32mis\u001b[0m \u001b[0;32mnot\u001b[0m \u001b[0;32mNone\u001b[0m\u001b[0;34m:\u001b[0m\u001b[0;34m\u001b[0m\u001b[0;34m\u001b[0m\u001b[0m\n\u001b[1;32m    145\u001b[0m             \u001b[0mx\u001b[0m \u001b[0;34m=\u001b[0m \u001b[0mops\u001b[0m\u001b[0;34m.\u001b[0m\u001b[0madd\u001b[0m\u001b[0;34m(\u001b[0m\u001b[0mx\u001b[0m\u001b[0;34m,\u001b[0m \u001b[0mself\u001b[0m\u001b[0;34m.\u001b[0m\u001b[0mbias\u001b[0m\u001b[0;34m)\u001b[0m\u001b[0;34m\u001b[0m\u001b[0;34m\u001b[0m\u001b[0m\n\u001b[1;32m    146\u001b[0m         \u001b[0;32mif\u001b[0m \u001b[0mself\u001b[0m\u001b[0;34m.\u001b[0m\u001b[0mactivation\u001b[0m \u001b[0;32mis\u001b[0m \u001b[0;32mnot\u001b[0m \u001b[0;32mNone\u001b[0m\u001b[0;34m:\u001b[0m\u001b[0;34m\u001b[0m\u001b[0;34m\u001b[0m\u001b[0m\n\u001b[0;32m--> 147\u001b[0;31m             \u001b[0mx\u001b[0m \u001b[0;34m=\u001b[0m \u001b[0mself\u001b[0m\u001b[0;34m.\u001b[0m\u001b[0mactivation\u001b[0m\u001b[0;34m(\u001b[0m\u001b[0mx\u001b[0m\u001b[0;34m)\u001b[0m\u001b[0;34m\u001b[0m\u001b[0;34m\u001b[0m\u001b[0m\n\u001b[0m\u001b[1;32m    148\u001b[0m         \u001b[0;32mreturn\u001b[0m \u001b[0mx\u001b[0m\u001b[0;34m\u001b[0m\u001b[0;34m\u001b[0m\u001b[0m\n",
      "\u001b[0;32m~/Desktop/University/Projects/Deep Q Learning- Landing on the Moon/lunarlanding/lib/python3.11/site-packages/keras/src/activations/activations.py\u001b[0m in \u001b[0;36m?\u001b[0;34m(x, negative_slope, max_value, threshold)\u001b[0m\n\u001b[1;32m     43\u001b[0m             \u001b[0mnegative_slope\u001b[0m\u001b[0;34m=\u001b[0m\u001b[0mnegative_slope\u001b[0m\u001b[0;34m,\u001b[0m\u001b[0;34m\u001b[0m\u001b[0;34m\u001b[0m\u001b[0m\n\u001b[1;32m     44\u001b[0m             \u001b[0mmax_value\u001b[0m\u001b[0;34m=\u001b[0m\u001b[0mmax_value\u001b[0m\u001b[0;34m,\u001b[0m\u001b[0;34m\u001b[0m\u001b[0;34m\u001b[0m\u001b[0m\n\u001b[1;32m     45\u001b[0m             \u001b[0mthreshold\u001b[0m\u001b[0;34m=\u001b[0m\u001b[0mthreshold\u001b[0m\u001b[0;34m,\u001b[0m\u001b[0;34m\u001b[0m\u001b[0;34m\u001b[0m\u001b[0m\n\u001b[1;32m     46\u001b[0m         )(x)\n\u001b[0;32m---> 47\u001b[0;31m     return ReLU.static_call(\n\u001b[0m\u001b[1;32m     48\u001b[0m         \u001b[0mx\u001b[0m\u001b[0;34m,\u001b[0m\u001b[0;34m\u001b[0m\u001b[0;34m\u001b[0m\u001b[0m\n\u001b[1;32m     49\u001b[0m         \u001b[0mnegative_slope\u001b[0m\u001b[0;34m=\u001b[0m\u001b[0mnegative_slope\u001b[0m\u001b[0;34m,\u001b[0m\u001b[0;34m\u001b[0m\u001b[0;34m\u001b[0m\u001b[0m\n\u001b[1;32m     50\u001b[0m         \u001b[0mmax_value\u001b[0m\u001b[0;34m=\u001b[0m\u001b[0mmax_value\u001b[0m\u001b[0;34m,\u001b[0m\u001b[0;34m\u001b[0m\u001b[0;34m\u001b[0m\u001b[0m\n",
      "\u001b[0;32m~/Desktop/University/Projects/Deep Q Learning- Landing on the Moon/lunarlanding/lib/python3.11/site-packages/keras/src/activations/activations.py\u001b[0m in \u001b[0;36m?\u001b[0;34m(x, negative_slope, max_value, threshold)\u001b[0m\n\u001b[1;32m     95\u001b[0m             \u001b[0;31m# if no threshold, then can use nn.relu6 native op for performance\u001b[0m\u001b[0;34m\u001b[0m\u001b[0;34m\u001b[0m\u001b[0m\n\u001b[1;32m     96\u001b[0m             \u001b[0mx\u001b[0m \u001b[0;34m=\u001b[0m \u001b[0mbackend\u001b[0m\u001b[0;34m.\u001b[0m\u001b[0mnn\u001b[0m\u001b[0;34m.\u001b[0m\u001b[0mrelu6\u001b[0m\u001b[0;34m(\u001b[0m\u001b[0mx\u001b[0m\u001b[0;34m)\u001b[0m\u001b[0;34m\u001b[0m\u001b[0;34m\u001b[0m\u001b[0m\n\u001b[1;32m     97\u001b[0m             \u001b[0mclip_max\u001b[0m \u001b[0;34m=\u001b[0m \u001b[0;32mFalse\u001b[0m\u001b[0;34m\u001b[0m\u001b[0;34m\u001b[0m\u001b[0m\n\u001b[1;32m     98\u001b[0m         \u001b[0;32melse\u001b[0m\u001b[0;34m:\u001b[0m\u001b[0;34m\u001b[0m\u001b[0;34m\u001b[0m\u001b[0m\n\u001b[0;32m---> 99\u001b[0;31m             \u001b[0mx\u001b[0m \u001b[0;34m=\u001b[0m \u001b[0mbackend\u001b[0m\u001b[0;34m.\u001b[0m\u001b[0mnn\u001b[0m\u001b[0;34m.\u001b[0m\u001b[0mrelu\u001b[0m\u001b[0;34m(\u001b[0m\u001b[0mx\u001b[0m\u001b[0;34m)\u001b[0m\u001b[0;34m\u001b[0m\u001b[0;34m\u001b[0m\u001b[0m\n\u001b[0m\u001b[1;32m    100\u001b[0m \u001b[0;34m\u001b[0m\u001b[0m\n\u001b[1;32m    101\u001b[0m         \u001b[0;32mif\u001b[0m \u001b[0mclip_max\u001b[0m\u001b[0;34m:\u001b[0m\u001b[0;34m\u001b[0m\u001b[0;34m\u001b[0m\u001b[0m\n\u001b[1;32m    102\u001b[0m             \u001b[0mmin_value\u001b[0m \u001b[0;34m=\u001b[0m \u001b[0mops\u001b[0m\u001b[0;34m.\u001b[0m\u001b[0mcast\u001b[0m\u001b[0;34m(\u001b[0m\u001b[0;36m0.0\u001b[0m\u001b[0;34m,\u001b[0m \u001b[0mdtype\u001b[0m\u001b[0;34m=\u001b[0m\u001b[0mx\u001b[0m\u001b[0;34m.\u001b[0m\u001b[0mdtype\u001b[0m\u001b[0;34m)\u001b[0m\u001b[0;34m\u001b[0m\u001b[0;34m\u001b[0m\u001b[0m\n",
      "\u001b[0;32m~/Desktop/University/Projects/Deep Q Learning- Landing on the Moon/lunarlanding/lib/python3.11/site-packages/keras/src/backend/tensorflow/nn.py\u001b[0m in \u001b[0;36m?\u001b[0;34m(x)\u001b[0m\n\u001b[1;32m     16\u001b[0m \u001b[0;32mdef\u001b[0m \u001b[0mrelu\u001b[0m\u001b[0;34m(\u001b[0m\u001b[0mx\u001b[0m\u001b[0;34m)\u001b[0m\u001b[0;34m:\u001b[0m\u001b[0;34m\u001b[0m\u001b[0;34m\u001b[0m\u001b[0m\n\u001b[0;32m---> 17\u001b[0;31m     \u001b[0;32mreturn\u001b[0m \u001b[0mtf\u001b[0m\u001b[0;34m.\u001b[0m\u001b[0mnn\u001b[0m\u001b[0;34m.\u001b[0m\u001b[0mrelu\u001b[0m\u001b[0;34m(\u001b[0m\u001b[0mx\u001b[0m\u001b[0;34m)\u001b[0m\u001b[0;34m\u001b[0m\u001b[0;34m\u001b[0m\u001b[0m\n\u001b[0m",
      "\u001b[0;32m~/Desktop/University/Projects/Deep Q Learning- Landing on the Moon/lunarlanding/lib/python3.11/site-packages/tensorflow/python/ops/gen_nn_ops.py\u001b[0m in \u001b[0;36m?\u001b[0;34m(features, name)\u001b[0m\n\u001b[1;32m  11583\u001b[0m         _ctx, \"Relu\", name, features)\n\u001b[1;32m  11584\u001b[0m       \u001b[0;32mreturn\u001b[0m \u001b[0m_result\u001b[0m\u001b[0;34m\u001b[0m\u001b[0;34m\u001b[0m\u001b[0m\n\u001b[1;32m  11585\u001b[0m     \u001b[0;32mexcept\u001b[0m \u001b[0m_core\u001b[0m\u001b[0;34m.\u001b[0m\u001b[0m_NotOkStatusException\u001b[0m \u001b[0;32mas\u001b[0m \u001b[0me\u001b[0m\u001b[0;34m:\u001b[0m\u001b[0;34m\u001b[0m\u001b[0;34m\u001b[0m\u001b[0m\n\u001b[1;32m  11586\u001b[0m       \u001b[0m_ops\u001b[0m\u001b[0;34m.\u001b[0m\u001b[0mraise_from_not_ok_status\u001b[0m\u001b[0;34m(\u001b[0m\u001b[0me\u001b[0m\u001b[0;34m,\u001b[0m \u001b[0mname\u001b[0m\u001b[0;34m)\u001b[0m\u001b[0;34m\u001b[0m\u001b[0;34m\u001b[0m\u001b[0m\n\u001b[0;32m> 11587\u001b[0;31m     \u001b[0;32mexcept\u001b[0m \u001b[0m_core\u001b[0m\u001b[0;34m.\u001b[0m\u001b[0m_FallbackException\u001b[0m\u001b[0;34m:\u001b[0m\u001b[0;34m\u001b[0m\u001b[0;34m\u001b[0m\u001b[0m\n\u001b[0m\u001b[1;32m  11588\u001b[0m       \u001b[0;32mpass\u001b[0m\u001b[0;34m\u001b[0m\u001b[0;34m\u001b[0m\u001b[0m\n\u001b[1;32m  11589\u001b[0m     \u001b[0;32mtry\u001b[0m\u001b[0;34m:\u001b[0m\u001b[0;34m\u001b[0m\u001b[0;34m\u001b[0m\u001b[0m\n\u001b[1;32m  11590\u001b[0m       _result = _dispatcher_for_relu(\n",
      "\u001b[0;31mKeyboardInterrupt\u001b[0m: "
     ]
    }
   ],
   "source": [
    "start=time.time()\n",
    "total_point_history=[]\n",
    "\n",
    "num_episodes=2_000\n",
    "max_num_iterations=1_000\n",
    "MINIBATCH_SIZE = 64  # Mini-batch size.\n",
    "E_DECAY = 0.995  # ε-decay rate for the ε-greedy policy.\n",
    "E_MIN = 0.01  # Minimum ε value for the ε-greedy policy.\n",
    "num_p_av=100\n",
    "\n",
    "#Begin with completely random exploration\n",
    "epsilon=1.0 # initial ε value for ε-greedy policy\n",
    "memory_buffer=deque(maxlen=MEMORY_SIZE)\n",
    "target_q_network.set_weights(q_network.get_weights())\n",
    "\n",
    "for i in range(num_episodes):\n",
    "    the_state=env.reset()\n",
    "    total_points=0\n",
    "    state=the_state[0]\n",
    "    for t in range(max_num_iterations):\n",
    "        state_qn=np.expand_dims(state,axis=0) #Get it to be a 1X8 matrix instead of an 8, array\n",
    "        q_values=q_network(state_qn)\n",
    "        \n",
    "        ''' get_action function\n",
    "        if random.random() > epsilon:\n",
    "            return np.argmax(q_values.numpy()[0])\n",
    "        else:\n",
    "            return random.choice(np.arange(4))\n",
    "        '''\n",
    "        action=utils.get_action(q_values,epsilon)\n",
    "        \n",
    "        #Take action A, receive reward (R) and next state (S')\n",
    "        next_state, reward, done, info,_ = env.step(action)\n",
    "        \n",
    "        #Store the experience tuple (S, A, R, S') in memory buffer, add done state as well\n",
    "        memory_buffer.append(experience(state,action, reward, next_state, done))\n",
    "        \n",
    "        do_update= ( (t + 1) % NUM_STEPS_FOR_UPDATE == 0) and ( len(memory_buffer) > MINIBATCH_SIZE )\n",
    "        \n",
    "        if do_update:\n",
    "            #Sample random mini-batch of experience tuples from Memory Buffer\n",
    "            experiences=utils.get_experiences(memory_buffer)\n",
    "            #Set y-targets, perform gradient descent, update and soft update Q and target Q\n",
    "            agent_learn(experiences,GAMMA)\n",
    "            \n",
    "        state=next_state.copy()\n",
    "        total_points +=reward\n",
    "        \n",
    "        if done:\n",
    "            break\n",
    "    total_point_history.append(total_points)\n",
    "    av_latest_points=np.mean(total_point_history[-num_p_av:])\n",
    "    \n",
    "    # Update the ε value\n",
    "    epsilon= max(E_MIN, E_DECAY * epsilon)    \n",
    "    \n",
    "    print(f\"\\rEpisode {i+1} | Total point average of the last {num_p_av} episodes: {av_latest_points:.2f}\", end=\"\")\n",
    "\n",
    "    if (i+1) % num_p_av == 0:\n",
    "        print(f\"\\rEpisode {i+1} | Total point average of the last {num_p_av} episodes: {av_latest_points:.2f}\")\n",
    "    \n",
    "    # average of 200 points in the last 100 episodes.\n",
    "    if av_latest_points>200.0:\n",
    "        print(f\"\\n\\nEnvironment solved in {i+1} episodes!\")\n",
    "        \n",
    "        #Saves the current state of the network in an HDF5 format. Capture a snapshot of a successfully trained model\n",
    "        q_network.save('lunar_lander_model.h5')\n",
    "        \n",
    "        break\n",
    "    \n",
    "        \n",
    "tot_time=time.time()-start\n",
    "print(f\"\\nTotal Runtime: {tot_time:.2f} s ({(tot_time/60):.2f} min)\")"
   ]
  },
  {
   "cell_type": "markdown",
   "metadata": {},
   "source": [
    "We can plot the total point history along with the moving average to see how our agent improved during training"
   ]
  },
  {
   "cell_type": "code",
   "execution_count": null,
   "metadata": {},
   "outputs": [],
   "source": [
    "from tensorflow.keras.models import load_model\n",
    "\n",
    "# Replace 'path_to_my_model.h5' with the path to your .h5 model file\n",
    "q_network = load_model('lunar_lander_model.h5')"
   ]
  },
  {
   "cell_type": "code",
   "execution_count": 110,
   "metadata": {},
   "outputs": [
    {
     "data": {
      "image/png": "[encoded data removed]",
      "text/plain": [
       "<Figure size 1000x700 with 1 Axes>"
      ]
     },
     "metadata": {},
     "output_type": "display_data"
    }
   ],
   "source": [
    "utils.plot_history(total_point_history)"
   ]
  },
  {
   "cell_type": "markdown",
   "metadata": {},
   "source": [
    "## See the Trained Agent In Action\n",
    "\n",
    "Now that we have trained our agent, we can see it in action. We will use the `utils.create_video` function to create a video of our agent interacting with the environment using the trained $Q$-Network. The `utils.create_video` function uses the `imageio` library to create the video. This library produces some warnings that can be distracting, so, to suppress these warnings we run the code below."
   ]
  },
  {
   "cell_type": "code",
   "execution_count": 111,
   "metadata": {},
   "outputs": [],
   "source": [
    "import logging\n",
    "logging.getLogger().setLevel(logging.ERROR)"
   ]
  },
  {
   "cell_type": "markdown",
   "metadata": {},
   "source": [
    "In the cell below we create a video of our agent interacting with the Lunar Lander environment using the trained q_network. The video is saved to the videos folder with the given filename. We use the utils.embed_mp4 function to embed the video in the Jupyter Notebook so that we can see it here directly without having to download it.\n",
    "\n",
    "We should note that since the lunar lander starts with a random initial force applied to its center of mass, every time you run the cell below you will see a different video. If the agent was trained properly, it should be able to land the lunar lander in the landing pad every time, regardless of the initial force applied to its center of mass."
   ]
  },
  {
   "cell_type": "code",
   "execution_count": 112,
   "metadata": {},
   "outputs": [
    {
     "data": {
      "text/plain": [
       "<module 'utils' from '/Users/alies/Desktop/University/Projects/Deep Q Learning- Landing on the Moon/utils.py'>"
      ]
     },
     "execution_count": 112,
     "metadata": {},
     "output_type": "execute_result"
    }
   ],
   "source": [
    "import importlib\n",
    "import utils  # Ensure utils is imported\n",
    "\n",
    "importlib.reload(utils)"
   ]
  },
  {
   "cell_type": "code",
   "execution_count": 113,
   "metadata": {},
   "outputs": [],
   "source": [
    "import os\n",
    "os.environ[\"IMAGEIO_FFMPEG_EXE\"] = \"/opt/homebrew/bin/ffmpeg\"  # Use your path"
   ]
  },
  {
   "cell_type": "code",
   "execution_count": 129,
   "metadata": {},
   "outputs": [
    {
     "data": {
      "text/html": [
       "\n",
       "    <video width=\"840\" height=\"480\" controls>\n",
       "    <source src=\"data:video/mp4;base64,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\" type=\"video/mp4\">\n",
       "    Your browser does not support the video tag.\n",
       "    </video>"
      ],
      "text/plain": [
       "<IPython.core.display.HTML object>"
      ]
     },
     "execution_count": 129,
     "metadata": {},
     "output_type": "execute_result"
    }
   ],
   "source": [
    "filename = \"./videos/lunar_lander.mp4\"\n",
    "\n",
    "utils.create_video(filename, env, q_network)\n",
    "utils.embed_mp4(filename)"
   ]
  },
  {
   "cell_type": "markdown",
   "metadata": {},
   "source": [
    "# Et Voila"
   ]
  }
 ],
 "metadata": {
  "kernelspec": {
   "display_name": "baba",
   "language": "python",
   "name": "python3"
  },
  "language_info": {
   "codemirror_mode": {
    "name": "ipython",
    "version": 3
   },
   "file_extension": ".py",
   "mimetype": "text/x-python",
   "name": "python",
   "nbconvert_exporter": "python",
   "pygments_lexer": "ipython3",
   "version": "3.11.5"
  }
 },
 "nbformat": 4,
 "nbformat_minor": 2
}
